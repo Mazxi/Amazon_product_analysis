{
 "cells": [
  {
   "cell_type": "markdown",
   "metadata": {},
   "source": [
    "# Amazon consumer electronics product performance for the year 2019\n",
    "## By Maxwell Chinemebudu Chimela\n",
    "This project is based on using some of the basic python analytics libraries to manipulate and clean and visualise data generated from amazon sales in 2019. Using these packages i was about to extract insight about the performance of products sold by amazon in the consumer electronics section. For this project i got the data set for each month in th year 2019 from kaggle. you can view the dataset [here](https://www.kaggle.com/datasets/knightbearr/sales-product-data?resource=download)\n",
    "\n",
    "The libraries I used for this projects are:\n",
    "* Numpy :- for caculation\n",
    "* pandas :- for Data cleaning and manipulation\n",
    "* Matplotlib and Seaborn :- for visualisation"
   ]
  },
  {
   "cell_type": "code",
   "execution_count": 1,
   "metadata": {},
   "outputs": [],
   "source": [
    "# Importing the libraries \n",
    "import numpy as np\n",
    "import pandas as pd\n",
    "import matplotlib.pyplot as plt\n",
    "import seaborn as sns"
   ]
  },
  {
   "cell_type": "markdown",
   "metadata": {},
   "source": [
    "## 1. LOADING THE DATA\n",
    "The dataset for each month where all loaded and stored in their respective variables"
   ]
  },
  {
   "cell_type": "code",
   "execution_count": 2,
   "metadata": {},
   "outputs": [],
   "source": [
    "jan_sales = pd.read_csv(\"../amazon_sales/Sales_January_2019.csv\")\n",
    "feb_sales = pd.read_csv(\"../amazon_sales/Sales_February_2019.csv\")\n",
    "mar_sales = pd.read_csv(\"../amazon_sales/Sales_March_2019.csv\")\n",
    "apr_sales = pd.read_csv(\"../amazon_sales/Sales_April_2019.csv\")\n",
    "may_sales = pd.read_csv(\"../amazon_sales/Sales_May_2019.csv\")\n",
    "jun_sales = pd.read_csv(\"../amazon_sales/Sales_June_2019.csv\")\n",
    "jul_sales = pd.read_csv(\"../amazon_sales/Sales_July_2019.csv\")\n",
    "aug_sales = pd.read_csv(\"../amazon_sales/Sales_August_2019.csv\")\n",
    "sep_sales = pd.read_csv(\"../amazon_sales/Sales_September_2019.csv\")\n",
    "oct_sales = pd.read_csv(\"../amazon_sales/Sales_October_2019.csv\")\n",
    "nov_sales = pd.read_csv(\"../amazon_sales/Sales_November_2019.csv\")\n",
    "dec_sales = pd.read_csv(\"../amazon_sales/Sales_December_2019.csv\")"
   ]
  },
  {
   "cell_type": "code",
   "execution_count": 3,
   "metadata": {},
   "outputs": [],
   "source": [
    "# Joining the all data together\n",
    "year_sales = pd.concat([jan_sales, feb_sales, mar_sales, apr_sales, may_sales, jun_sales, jul_sales, \n",
    "                        aug_sales, sep_sales, oct_sales, nov_sales, dec_sales])"
   ]
  },
  {
   "cell_type": "markdown",
   "metadata": {},
   "source": []
  },
  {
   "cell_type": "code",
   "execution_count": 4,
   "metadata": {},
   "outputs": [
    {
     "data": {
      "text/html": [
       "<div>\n",
       "<style scoped>\n",
       "    .dataframe tbody tr th:only-of-type {\n",
       "        vertical-align: middle;\n",
       "    }\n",
       "\n",
       "    .dataframe tbody tr th {\n",
       "        vertical-align: top;\n",
       "    }\n",
       "\n",
       "    .dataframe thead th {\n",
       "        text-align: right;\n",
       "    }\n",
       "</style>\n",
       "<table border=\"1\" class=\"dataframe\">\n",
       "  <thead>\n",
       "    <tr style=\"text-align: right;\">\n",
       "      <th></th>\n",
       "      <th>Order ID</th>\n",
       "      <th>Product</th>\n",
       "      <th>Quantity Ordered</th>\n",
       "      <th>Price Each</th>\n",
       "      <th>Order Date</th>\n",
       "      <th>Purchase Address</th>\n",
       "    </tr>\n",
       "  </thead>\n",
       "  <tbody>\n",
       "    <tr>\n",
       "      <th>0</th>\n",
       "      <td>141234</td>\n",
       "      <td>iPhone</td>\n",
       "      <td>1</td>\n",
       "      <td>700</td>\n",
       "      <td>01/22/19 21:25</td>\n",
       "      <td>944 Walnut St, Boston, MA 02215</td>\n",
       "    </tr>\n",
       "    <tr>\n",
       "      <th>1</th>\n",
       "      <td>141235</td>\n",
       "      <td>Lightning Charging Cable</td>\n",
       "      <td>1</td>\n",
       "      <td>14.95</td>\n",
       "      <td>01/28/19 14:15</td>\n",
       "      <td>185 Maple St, Portland, OR 97035</td>\n",
       "    </tr>\n",
       "    <tr>\n",
       "      <th>2</th>\n",
       "      <td>141236</td>\n",
       "      <td>Wired Headphones</td>\n",
       "      <td>2</td>\n",
       "      <td>11.99</td>\n",
       "      <td>01/17/19 13:33</td>\n",
       "      <td>538 Adams St, San Francisco, CA 94016</td>\n",
       "    </tr>\n",
       "    <tr>\n",
       "      <th>3</th>\n",
       "      <td>141237</td>\n",
       "      <td>27in FHD Monitor</td>\n",
       "      <td>1</td>\n",
       "      <td>149.99</td>\n",
       "      <td>01/05/19 20:33</td>\n",
       "      <td>738 10th St, Los Angeles, CA 90001</td>\n",
       "    </tr>\n",
       "    <tr>\n",
       "      <th>4</th>\n",
       "      <td>141238</td>\n",
       "      <td>Wired Headphones</td>\n",
       "      <td>1</td>\n",
       "      <td>11.99</td>\n",
       "      <td>01/25/19 11:59</td>\n",
       "      <td>387 10th St, Austin, TX 73301</td>\n",
       "    </tr>\n",
       "  </tbody>\n",
       "</table>\n",
       "</div>"
      ],
      "text/plain": [
       "  Order ID                   Product Quantity Ordered Price Each  \\\n",
       "0   141234                    iPhone                1        700   \n",
       "1   141235  Lightning Charging Cable                1      14.95   \n",
       "2   141236          Wired Headphones                2      11.99   \n",
       "3   141237          27in FHD Monitor                1     149.99   \n",
       "4   141238          Wired Headphones                1      11.99   \n",
       "\n",
       "       Order Date                       Purchase Address  \n",
       "0  01/22/19 21:25        944 Walnut St, Boston, MA 02215  \n",
       "1  01/28/19 14:15       185 Maple St, Portland, OR 97035  \n",
       "2  01/17/19 13:33  538 Adams St, San Francisco, CA 94016  \n",
       "3  01/05/19 20:33     738 10th St, Los Angeles, CA 90001  \n",
       "4  01/25/19 11:59          387 10th St, Austin, TX 73301  "
      ]
     },
     "execution_count": 4,
     "metadata": {},
     "output_type": "execute_result"
    }
   ],
   "source": [
    "# Previewing the data\n",
    "year_sales.head()"
   ]
  },
  {
   "cell_type": "code",
   "execution_count": 5,
   "metadata": {},
   "outputs": [
    {
     "data": {
      "text/plain": [
       "186850"
      ]
     },
     "execution_count": 5,
     "metadata": {},
     "output_type": "execute_result"
    }
   ],
   "source": [
    "# number of rows\n",
    "year_sales.shape[0]"
   ]
  },
  {
   "cell_type": "code",
   "execution_count": 6,
   "metadata": {},
   "outputs": [
    {
     "data": {
      "text/plain": [
       "6"
      ]
     },
     "execution_count": 6,
     "metadata": {},
     "output_type": "execute_result"
    }
   ],
   "source": [
    "# number of columns\n",
    "year_sales.shape[1]"
   ]
  },
  {
   "cell_type": "markdown",
   "metadata": {},
   "source": [
    "### Data Description"
   ]
  },
  {
   "cell_type": "markdown",
   "metadata": {},
   "source": [
    "The dataset has a total of 186,850 rows and 6 columns.\n",
    "\n",
    "The columns are:\n",
    "\n",
    "* **Order ID** :- Id for each order place.\n",
    "* **Product** :- Product being ordered.\n",
    "* **Quantity Ordered** :- number of product ordered.\n",
    "* **Price each** :- The unit price for each price order.\n",
    "* **Purchase Address** :- The address of the customer that placed the order.\n"
   ]
  },
  {
   "cell_type": "markdown",
   "metadata": {},
   "source": [
    "## 2. DATA CLEANING\n",
    "used the pandas library to clean and manipulate the data types"
   ]
  },
  {
   "cell_type": "code",
   "execution_count": 7,
   "metadata": {},
   "outputs": [],
   "source": [
    "# Renaming the `Price Each` column\n",
    "year_sales.rename(columns = {\"Price Each\": \"Unit Price\"}, inplace = True)"
   ]
  },
  {
   "cell_type": "code",
   "execution_count": 8,
   "metadata": {},
   "outputs": [
    {
     "data": {
      "text/html": [
       "<div>\n",
       "<style scoped>\n",
       "    .dataframe tbody tr th:only-of-type {\n",
       "        vertical-align: middle;\n",
       "    }\n",
       "\n",
       "    .dataframe tbody tr th {\n",
       "        vertical-align: top;\n",
       "    }\n",
       "\n",
       "    .dataframe thead th {\n",
       "        text-align: right;\n",
       "    }\n",
       "</style>\n",
       "<table border=\"1\" class=\"dataframe\">\n",
       "  <thead>\n",
       "    <tr style=\"text-align: right;\">\n",
       "      <th></th>\n",
       "      <th>count</th>\n",
       "      <th>unique</th>\n",
       "      <th>top</th>\n",
       "      <th>freq</th>\n",
       "    </tr>\n",
       "  </thead>\n",
       "  <tbody>\n",
       "    <tr>\n",
       "      <th>Order ID</th>\n",
       "      <td>186305</td>\n",
       "      <td>178438</td>\n",
       "      <td>Order ID</td>\n",
       "      <td>355</td>\n",
       "    </tr>\n",
       "    <tr>\n",
       "      <th>Product</th>\n",
       "      <td>186305</td>\n",
       "      <td>20</td>\n",
       "      <td>USB-C Charging Cable</td>\n",
       "      <td>21903</td>\n",
       "    </tr>\n",
       "    <tr>\n",
       "      <th>Quantity Ordered</th>\n",
       "      <td>186305</td>\n",
       "      <td>10</td>\n",
       "      <td>1</td>\n",
       "      <td>168552</td>\n",
       "    </tr>\n",
       "    <tr>\n",
       "      <th>Unit Price</th>\n",
       "      <td>186305</td>\n",
       "      <td>24</td>\n",
       "      <td>11.95</td>\n",
       "      <td>21903</td>\n",
       "    </tr>\n",
       "    <tr>\n",
       "      <th>Order Date</th>\n",
       "      <td>186305</td>\n",
       "      <td>142396</td>\n",
       "      <td>Order Date</td>\n",
       "      <td>355</td>\n",
       "    </tr>\n",
       "    <tr>\n",
       "      <th>Purchase Address</th>\n",
       "      <td>186305</td>\n",
       "      <td>140788</td>\n",
       "      <td>Purchase Address</td>\n",
       "      <td>355</td>\n",
       "    </tr>\n",
       "  </tbody>\n",
       "</table>\n",
       "</div>"
      ],
      "text/plain": [
       "                   count  unique                   top    freq\n",
       "Order ID          186305  178438              Order ID     355\n",
       "Product           186305      20  USB-C Charging Cable   21903\n",
       "Quantity Ordered  186305      10                     1  168552\n",
       "Unit Price        186305      24                 11.95   21903\n",
       "Order Date        186305  142396            Order Date     355\n",
       "Purchase Address  186305  140788      Purchase Address     355"
      ]
     },
     "execution_count": 8,
     "metadata": {},
     "output_type": "execute_result"
    }
   ],
   "source": [
    "# checking the statistics\n",
    "year_sales.describe().T"
   ]
  },
  {
   "cell_type": "code",
   "execution_count": 9,
   "metadata": {},
   "outputs": [
    {
     "name": "stdout",
     "output_type": "stream",
     "text": [
      "<class 'pandas.core.frame.DataFrame'>\n",
      "Int64Index: 186850 entries, 0 to 25116\n",
      "Data columns (total 6 columns):\n",
      "Order ID            186305 non-null object\n",
      "Product             186305 non-null object\n",
      "Quantity Ordered    186305 non-null object\n",
      "Unit Price          186305 non-null object\n",
      "Order Date          186305 non-null object\n",
      "Purchase Address    186305 non-null object\n",
      "dtypes: object(6)\n",
      "memory usage: 10.0+ MB\n"
     ]
    }
   ],
   "source": [
    "# Checking for datatypes and missing values\n",
    "year_sales.info()"
   ]
  },
  {
   "cell_type": "code",
   "execution_count": 10,
   "metadata": {},
   "outputs": [
    {
     "data": {
      "text/plain": [
       "Order ID            545\n",
       "Product             545\n",
       "Quantity Ordered    545\n",
       "Unit Price          545\n",
       "Order Date          545\n",
       "Purchase Address    545\n",
       "dtype: int64"
      ]
     },
     "execution_count": 10,
     "metadata": {},
     "output_type": "execute_result"
    }
   ],
   "source": [
    "# Checking for missing values\n",
    "year_sales.isnull().sum()"
   ]
  },
  {
   "cell_type": "code",
   "execution_count": 11,
   "metadata": {},
   "outputs": [],
   "source": [
    "# Dropping the rows with missing values\n",
    "year_sales = year_sales.dropna(how = 'all')"
   ]
  },
  {
   "cell_type": "code",
   "execution_count": 12,
   "metadata": {},
   "outputs": [],
   "source": [
    "idx = year_sales[year_sales.Product == \"Product\"].index  # Saving the row number of the row containing product in idx\n",
    "year_sales = year_sales.drop(idx) # Dropping the row from the dataframe"
   ]
  },
  {
   "cell_type": "code",
   "execution_count": 13,
   "metadata": {},
   "outputs": [],
   "source": [
    "# creating a columns for month and hour respectively\n",
    "year_sales[\"month\"] = year_sales[\"Order Date\"].str[:2]\n",
    "year_sales[\"hour\"] = year_sales[\"Order Date\"].str[9:11]\n"
   ]
  },
  {
   "cell_type": "code",
   "execution_count": 14,
   "metadata": {},
   "outputs": [],
   "source": [
    "# Type casting the `Unit Price` and `Quantity Ordered` columns\n",
    "year_sales[\"Unit Price\"] = pd.to_numeric(year_sales[\"Unit Price\"]) \n",
    "year_sales[\"Quantity Ordered\"] = pd.to_numeric(year_sales[\"Quantity Ordered\"])\n",
    "\n",
    "# Typecasting the Order Date column to datetime \n",
    "year_sales[\"Order Date\"] = pd.to_datetime(year_sales[\"Order Date\"])"
   ]
  },
  {
   "cell_type": "code",
   "execution_count": 15,
   "metadata": {},
   "outputs": [],
   "source": [
    "# selecting and keeping just the months in 2019\n",
    "mask = (year_sales[\"Order Date\"] >= \"2019-01-01\") & (year_sales[\"Order Date\"] <= \"2019-12-31\")\n",
    "year_sales = year_sales.loc[mask] # keeping just only dates that are within the year 2019"
   ]
  },
  {
   "cell_type": "code",
   "execution_count": 16,
   "metadata": {},
   "outputs": [],
   "source": [
    "# Adding an Id, Sales, City, and State columns to the dataframe\n",
    "year_sales[\"Id\"] = year_sales.index + 1\n",
    "year_sales[\"Sale\"] = year_sales[\"Quantity Ordered\"] * year_sales[\"Unit Price\"]\n",
    "\n",
    "# The line below strips of cities and States respectively from purchase address \n",
    "year_sales[\"City\"] = year_sales[\"Purchase Address\"].astype(str).apply(lambda x: x.split(\",\")[1])\n",
    "year_sales[\"State\"] = year_sales[\"Purchase Address\"].astype(str).apply(lambda x: x.split(\",\")[2])\n",
    "\n",
    "# converts the id to an integer \n",
    "year_sales.Id = year_sales.Id.astype(int)"
   ]
  },
  {
   "cell_type": "code",
   "execution_count": 17,
   "metadata": {},
   "outputs": [],
   "source": [
    "# Saving the data to csv format to be visualised in tableau \n",
    "year_sales.to_csv('../amazon_sales/Amazon_Sales_2019.csv')"
   ]
  },
  {
   "cell_type": "markdown",
   "metadata": {},
   "source": [
    "## 3. Performance analysis for the year.\n",
    "The visualisation below to answer some questions. To view the dashboard in tableau click [here](https://public.tableau.com/app/profile/chinemebudu.maxwell/viz/AmazonConsumerElectronicsDashboard/AmazonReport)."
   ]
  },
  {
   "cell_type": "markdown",
   "metadata": {},
   "source": [
    "#### a. How much revenue generated in 2019"
   ]
  },
  {
   "cell_type": "code",
   "execution_count": 18,
   "metadata": {},
   "outputs": [
    {
     "data": {
      "text/plain": [
       "33742050.0"
      ]
     },
     "execution_count": 18,
     "metadata": {},
     "output_type": "execute_result"
    }
   ],
   "source": [
    "# code below sums up the total revenue generated \n",
    "round(year_sales.Sale.sum(), 0)"
   ]
  },
  {
   "cell_type": "markdown",
   "metadata": {},
   "source": [
    "#### b. What product has the highest number of of purchase"
   ]
  },
  {
   "cell_type": "code",
   "execution_count": 19,
   "metadata": {},
   "outputs": [
    {
     "data": {
      "image/png": "[encoded data removed]",
      "text/plain": [
       "<Figure size 432x288 with 1 Axes>"
      ]
     },
     "metadata": {
      "needs_background": "light"
     },
     "output_type": "display_data"
    }
   ],
   "source": [
    "# The block of code below creates a bar chart.\n",
    "month_sales = year_sales.groupby('month')['Sale'].sum() #groups the sum of sales by sum\n",
    "months = month_sales.index # takes the months\n",
    "\n",
    "plt.bar(months, month_sales)\n",
    "plt.xlabel(\"months\")\n",
    "plt.ylabel(\"Sales in USD\");"
   ]
  },
  {
   "cell_type": "markdown",
   "metadata": {},
   "source": [
    "#### c. what city has the most number of sales"
   ]
  },
  {
   "cell_type": "code",
   "execution_count": 20,
   "metadata": {},
   "outputs": [],
   "source": [
    "# the code block below creates a new column called citi to hold the city \n",
    "#and the state abbreviation in bracket.\n",
    "year_sales[\"citi\"] = year_sales[\"State\"].astype(str).apply(lambda x: x.split(\" \")[1])\n",
    "year_sales[\"citi\"] = year_sales[\"City\"]+\"(\"+year_sales[\"citi\"]+\")\"\n"
   ]
  },
  {
   "cell_type": "code",
   "execution_count": 21,
   "metadata": {},
   "outputs": [
    {
     "data": {
      "image/png": "[encoded data removed]",
      "text/plain": [
       "<Figure size 432x288 with 1 Axes>"
      ]
     },
     "metadata": {
      "needs_background": "light"
     },
     "output_type": "display_data"
    }
   ],
   "source": [
    "# the code below creates a barchart for the number of orders for each state\n",
    "no_of_orders = year_sales.groupby('citi')['Order ID'].count().sort_values() \n",
    "citi = no_of_orders.index\n",
    "\n",
    "plt.barh(citi, no_of_orders)\n",
    "plt.ylabel(\"cities\")\n",
    "plt.xlabel(\"Number of orders\");"
   ]
  },
  {
   "cell_type": "markdown",
   "metadata": {},
   "source": [
    "#### d. what product had the most number of sales"
   ]
  },
  {
   "cell_type": "code",
   "execution_count": 22,
   "metadata": {},
   "outputs": [
    {
     "data": {
      "image/png": "[encoded data removed]",
      "text/plain": [
       "<Figure size 432x288 with 1 Axes>"
      ]
     },
     "metadata": {
      "needs_background": "light"
     },
     "output_type": "display_data"
    }
   ],
   "source": [
    "# using value count to get the total number of orders for each product \n",
    "y = year_sales[\"Product\"].value_counts().sort_values()\n",
    "x = y.index # gets the index of the sorted series\n",
    "plt.barh(x, y);\n",
    "plt.show()"
   ]
  },
  {
   "cell_type": "markdown",
   "metadata": {},
   "source": [
    "#### e. when is the best time of the day to advertise\n",
    "   The best time of the day to advertise should be the times with the highest traffick"
   ]
  },
  {
   "cell_type": "code",
   "execution_count": 23,
   "metadata": {},
   "outputs": [
    {
     "data": {
      "image/png": "[encoded data removed]",
      "text/plain": [
       "<Figure size 432x288 with 1 Axes>"
      ]
     },
     "metadata": {
      "needs_background": "light"
     },
     "output_type": "display_data"
    }
   ],
   "source": [
    "# The code block below creates a line chart of the hourly traffick\n",
    "hourly_orders = year_sales.groupby('hour')['Order ID'].count()\n",
    "hour = hourly_orders.index\n",
    "\n",
    "plt.fill_between(hour, hourly_orders, alpha = 0.4, color = \"blue\")\n",
    "plt.plot(hour, hourly_orders, alpha = 0.8, linewidth = 1, color = \"blue\")\n",
    "plt.xlabel(\"Hours\")\n",
    "plt.ylabel(\"Traffick\")\n",
    "plt.grid(True);"
   ]
  },
  {
   "cell_type": "code",
   "execution_count": null,
   "metadata": {},
   "outputs": [],
   "source": []
  }
 ],
 "metadata": {
  "kernelspec": {
   "display_name": "Python 3",
   "language": "python",
   "name": "python3"
  },
  "language_info": {
   "codemirror_mode": {
    "name": "ipython",
    "version": 3
   },
   "file_extension": ".py",
   "mimetype": "text/x-python",
   "name": "python",
   "nbconvert_exporter": "python",
   "pygments_lexer": "ipython3",
   "version": "3.7.3"
  },
  "widgets": {
   "application/vnd.jupyter.widget-state+json": {
    "state": {},
    "version_major": 2,
    "version_minor": 0
   }
  }
 },
 "nbformat": 4,
 "nbformat_minor": 2
}
